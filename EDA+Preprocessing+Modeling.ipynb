{
 "cells": [
  {
   "cell_type": "code",
   "execution_count": 6,
   "metadata": {
    "collapsed": true
   },
   "outputs": [],
   "source": [
    "import pandas as pd\n",
    "import numpy as np\n",
    "from matplotlib import pyplot as plt\n",
    "import seaborn as sns\n",
    "from nltk.stem.porter import PorterStemmer\n",
    "from nltk.tokenize import sent_tokenize,word_tokenize\n",
    "from nltk.corpus import stopwords\n",
    "import nltk\n",
    "import string\n",
    "from string import digits\n",
    "from sklearn.feature_extraction.text import TfidfVectorizer\n",
    "from sklearn.ensemble import ExtraTreesClassifier,RandomForestClassifier\n",
    "from textblob import TextBlob \n",
    "import pickle"
   ]
  },
  {
   "cell_type": "code",
   "execution_count": 2,
   "metadata": {
    "collapsed": true
   },
   "outputs": [],
   "source": [
    "#********************************************************************************************************************************************************\n",
    "# below is the vectorized blazing fast cleaner function, just pass the dataframe and sit back and relax\n",
    "def clean_text_data(df,x,is_lower=True,is_punctuation=True,is_stopwords=True,\n",
    "                    is_stemming=True,special_symbols=['\\n'],verbose=True):\n",
    "    #stopword removal\n",
    "    stop_word=list(stopwords.words('english'))\n",
    "    def remove_stopwords(strr):\n",
    "        toke=list(strr.split(' '))\n",
    "        return ' '.join([i for i in toke if i not in stop_word])\n",
    "    \n",
    "    #punctutaion removal\n",
    "    def remove_punctuation(strr):\n",
    "        t_lator=str.maketrans('','',string.punctuation)\n",
    "        strr=strr.translate(t_lator)\n",
    "        remove_digits = str.maketrans('', '', digits)\n",
    "        strr = strr.translate(remove_digits)\n",
    "        return strr\n",
    "    \n",
    "    #stemming\n",
    "    def stem_tokens(tokens, stemmer=PorterStemmer()):\n",
    "        copy=str(tokens)\n",
    "        try:\n",
    "            stemmed,tokens = [],list(tokens.split(' '))\n",
    "            return ' '.join([stemmer.stem(item) for item in tokens])\n",
    "        except:\n",
    "            return copy\n",
    "    \n",
    "    #removing special symbol\n",
    "    def remove_special_symbol(strr,pat):\n",
    "        return strr.replace(pat,\" \")\n",
    "    \n",
    "    #removal of extra whitespaces\n",
    "    def clean_extra_whitespace(x):\n",
    "        for i in range(20):\n",
    "            x=str(x).replace('  ',' ')\n",
    "            x=x.strip()\n",
    "        return x\n",
    "\n",
    "    \n",
    "    \n",
    "    #Starting cleaning process\n",
    "    if verbose:\n",
    "        print(\"Starting cleaning process\")\n",
    "        if is_lower:\n",
    "            print('Converting to lower case')\n",
    "            df[x]=df[x].str.lower()\n",
    "        if is_punctuation:\n",
    "            print('Removing Punctuations')\n",
    "            df[x]=df[x].apply(lambda y:remove_punctuation(y))\n",
    "        if is_stopwords:\n",
    "            print('Removing Stopwords')\n",
    "            df[x]=df[x].apply(lambda y:remove_stopwords(y))\n",
    "        if is_stemming:\n",
    "            print('Stemming')\n",
    "            df[x]=df[x].apply(lambda y:stem_tokens(y))\n",
    "        print('Removing ',special_symbols)\n",
    "        for i in special_symbols:\n",
    "            df[x]=df[x].apply(lambda y:remove_special_symbol(y,i))\n",
    "            \n",
    "        df[x]=df[x].apply(lambda y:clean_extra_whitespace(y))\n",
    "        print('Text cleaning has been successfully completed')\n",
    "        return df\n",
    "    else:\n",
    "        if is_lower:\n",
    "            df[x]=df[x].str.lower()\n",
    "        if is_punctuation:\n",
    "            df[x]=df[x].apply(lambda y:remove_punctuation(y))\n",
    "        if is_stopwords:\n",
    "            df[x]=df[x].apply(lambda y:remove_stopwords(y))\n",
    "        if is_stemming:\n",
    "            df[x]=df[x].apply(lambda y:stem_tokens(y))\n",
    "        for i in special_symbols:\n",
    "            df[x]=df[x].apply(lambda y:remove_special_symbol(y,i))\n",
    "        \n",
    "        df[x]=df[x].apply(lambda y:clean_extra_whitespace(y))\n",
    "        return df"
   ]
  },
  {
   "cell_type": "code",
   "execution_count": 4,
   "metadata": {
    "collapsed": true
   },
   "outputs": [],
   "source": [
    "def num_of_words(x):\n",
    "    return len(list(str(x).split(' ')))"
   ]
  },
  {
   "cell_type": "code",
   "execution_count": 209,
   "metadata": {
    "collapsed": true
   },
   "outputs": [],
   "source": [
    "def prepare_test_data(text=None, tfidf = None, clf=None):\n",
    "    test = pd.DataFrame()\n",
    "    test['comment_text'] = [text]\n",
    "    test=clean_text_data(df=test,x='comment_text',verbose=False)\n",
    "    test['comment_text_char_length']=[len(i) for i in test['comment_text'].values]\n",
    "    test['comment_text_word_length']=test['comment_text'].apply(lambda x:num_of_words(x))\n",
    "    test_data = tfidf.transform(test['comment_text'])\n",
    "    test_data=pd.DataFrame(test_data.toarray(),index=[0])\n",
    "    coly = ['toxic', 'severe_toxic', 'obscene', 'threat', 'insult', 'identity_hate']\n",
    "    ans = np.array(clf.predict_proba(test_data))\n",
    "    sub = pd.DataFrame([ans[:,0,1]],columns=coly)\n",
    "    return sub"
   ]
  },
  {
   "cell_type": "code",
   "execution_count": 160,
   "metadata": {
    "collapsed": false
   },
   "outputs": [
    {
     "name": "stderr",
     "output_type": "stream",
     "text": [
      "C:\\ProgramData\\Anaconda3\\lib\\site-packages\\sklearn\\base.py:312: UserWarning: Trying to unpickle estimator TfidfTransformer from version 0.19.1 when using version 0.19.0. This might lead to breaking code or invalid results. Use at your own risk.\n",
      "  UserWarning)\n",
      "C:\\ProgramData\\Anaconda3\\lib\\site-packages\\sklearn\\base.py:312: UserWarning: Trying to unpickle estimator TfidfVectorizer from version 0.19.1 when using version 0.19.0. This might lead to breaking code or invalid results. Use at your own risk.\n",
      "  UserWarning)\n",
      "C:\\ProgramData\\Anaconda3\\lib\\site-packages\\sklearn\\base.py:312: UserWarning: Trying to unpickle estimator DecisionTreeClassifier from version 0.19.1 when using version 0.19.0. This might lead to breaking code or invalid results. Use at your own risk.\n",
      "  UserWarning)\n",
      "C:\\ProgramData\\Anaconda3\\lib\\site-packages\\sklearn\\base.py:312: UserWarning: Trying to unpickle estimator RandomForestClassifier from version 0.19.1 when using version 0.19.0. This might lead to breaking code or invalid results. Use at your own risk.\n",
      "  UserWarning)\n"
     ]
    }
   ],
   "source": [
    "tfidf = pickle.load(open('../Modeling/tfidf.sav','rb'))\n",
    "clf = pickle.load(open('../Modeling/model.sav','rb'))"
   ]
  },
  {
   "cell_type": "code",
   "execution_count": 223,
   "metadata": {
    "collapsed": false
   },
   "outputs": [
    {
     "name": "stdout",
     "output_type": "stream",
     "text": [
      "[Parallel(n_jobs=16)]: Done   1 tasks      | elapsed:    0.0s\n",
      "[Parallel(n_jobs=16)]: Done   2 tasks      | elapsed:    0.0s\n",
      "[Parallel(n_jobs=16)]: Done   3 tasks      | elapsed:    0.0s\n",
      "[Parallel(n_jobs=16)]: Done   4 tasks      | elapsed:    0.0s\n",
      "[Parallel(n_jobs=16)]: Done   5 tasks      | elapsed:    0.0s\n",
      "[Parallel(n_jobs=16)]: Done   6 tasks      | elapsed:    0.0s\n",
      "[Parallel(n_jobs=16)]: Done   7 tasks      | elapsed:    0.0s\n",
      "[Parallel(n_jobs=16)]: Done   8 tasks      | elapsed:    0.0s\n",
      "[Parallel(n_jobs=16)]: Done   9 tasks      | elapsed:    0.0s\n",
      "[Parallel(n_jobs=16)]: Done  10 tasks      | elapsed:    0.0s\n",
      "[Parallel(n_jobs=16)]: Done  11 tasks      | elapsed:    0.0s\n",
      "[Parallel(n_jobs=16)]: Done  12 tasks      | elapsed:    0.0s\n",
      "[Parallel(n_jobs=16)]: Done  13 tasks      | elapsed:    0.0s\n",
      "[Parallel(n_jobs=16)]: Done  14 tasks      | elapsed:    0.0s\n",
      "[Parallel(n_jobs=16)]: Done  15 tasks      | elapsed:    0.0s\n",
      "[Parallel(n_jobs=16)]: Done  16 tasks      | elapsed:    0.0s\n",
      "[Parallel(n_jobs=16)]: Done  17 tasks      | elapsed:    0.0s\n",
      "[Parallel(n_jobs=16)]: Done  18 tasks      | elapsed:    0.0s\n",
      "[Parallel(n_jobs=16)]: Done  19 tasks      | elapsed:    0.0s\n",
      "[Parallel(n_jobs=16)]: Done  20 tasks      | elapsed:    0.0s\n",
      "[Parallel(n_jobs=16)]: Done  21 tasks      | elapsed:    0.0s\n",
      "[Parallel(n_jobs=16)]: Done  22 tasks      | elapsed:    0.0s\n",
      "[Parallel(n_jobs=16)]: Done  23 tasks      | elapsed:    0.0s\n",
      "[Parallel(n_jobs=16)]: Done  24 tasks      | elapsed:    0.0s\n",
      "[Parallel(n_jobs=16)]: Done  25 tasks      | elapsed:    0.0s\n",
      "[Parallel(n_jobs=16)]: Done  26 tasks      | elapsed:    0.0s\n",
      "[Parallel(n_jobs=16)]: Done  27 tasks      | elapsed:    0.0s\n",
      "[Parallel(n_jobs=16)]: Done  28 tasks      | elapsed:    0.0s\n",
      "[Parallel(n_jobs=16)]: Done  29 tasks      | elapsed:    0.0s\n",
      "[Parallel(n_jobs=16)]: Done  30 tasks      | elapsed:    0.0s\n",
      "[Parallel(n_jobs=16)]: Done  31 tasks      | elapsed:    0.0s\n",
      "[Parallel(n_jobs=16)]: Done  32 tasks      | elapsed:    0.0s\n",
      "[Parallel(n_jobs=16)]: Done  33 tasks      | elapsed:    0.0s\n",
      "[Parallel(n_jobs=16)]: Done  34 tasks      | elapsed:    0.0s\n",
      "[Parallel(n_jobs=16)]: Done  35 tasks      | elapsed:    0.0s\n",
      "[Parallel(n_jobs=16)]: Done  36 tasks      | elapsed:    0.0s\n",
      "[Parallel(n_jobs=16)]: Done  37 tasks      | elapsed:    0.0s\n",
      "[Parallel(n_jobs=16)]: Done  38 tasks      | elapsed:    0.0s\n",
      "[Parallel(n_jobs=16)]: Done  39 tasks      | elapsed:    0.0s\n",
      "[Parallel(n_jobs=16)]: Done  40 tasks      | elapsed:    0.0s\n",
      "[Parallel(n_jobs=16)]: Done  41 tasks      | elapsed:    0.0s\n",
      "[Parallel(n_jobs=16)]: Done  42 tasks      | elapsed:    0.0s\n",
      "[Parallel(n_jobs=16)]: Done  43 tasks      | elapsed:    0.0s\n",
      "[Parallel(n_jobs=16)]: Done  44 tasks      | elapsed:    0.0s\n",
      "[Parallel(n_jobs=16)]: Done  45 tasks      | elapsed:    0.0s\n",
      "[Parallel(n_jobs=16)]: Done  46 tasks      | elapsed:    0.0s\n",
      "[Parallel(n_jobs=16)]: Done  47 tasks      | elapsed:    0.0s\n",
      "[Parallel(n_jobs=16)]: Done  48 tasks      | elapsed:    0.0s\n",
      "[Parallel(n_jobs=16)]: Done  49 tasks      | elapsed:    0.0s\n",
      "[Parallel(n_jobs=16)]: Done  50 tasks      | elapsed:    0.0s\n",
      "[Parallel(n_jobs=16)]: Done  51 tasks      | elapsed:    0.0s\n",
      "[Parallel(n_jobs=16)]: Done  52 tasks      | elapsed:    0.0s\n",
      "[Parallel(n_jobs=16)]: Done  53 tasks      | elapsed:    0.0s\n",
      "[Parallel(n_jobs=16)]: Done  54 tasks      | elapsed:    0.0s\n",
      "[Parallel(n_jobs=16)]: Done  55 tasks      | elapsed:    0.0s\n",
      "[Parallel(n_jobs=16)]: Done  56 tasks      | elapsed:    0.0s\n",
      "[Parallel(n_jobs=16)]: Done  57 tasks      | elapsed:    0.0s\n",
      "[Parallel(n_jobs=16)]: Done  58 tasks      | elapsed:    0.0s\n",
      "[Parallel(n_jobs=16)]: Done  59 tasks      | elapsed:    0.0s\n",
      "[Parallel(n_jobs=16)]: Done  60 tasks      | elapsed:    0.0s\n",
      "[Parallel(n_jobs=16)]: Done  61 tasks      | elapsed:    0.0s\n",
      "[Parallel(n_jobs=16)]: Done  62 tasks      | elapsed:    0.0s\n",
      "[Parallel(n_jobs=16)]: Done  63 tasks      | elapsed:    0.0s\n",
      "[Parallel(n_jobs=16)]: Done  64 tasks      | elapsed:    0.0s\n",
      "[Parallel(n_jobs=16)]: Done  65 tasks      | elapsed:    0.0s\n",
      "[Parallel(n_jobs=16)]: Done  66 tasks      | elapsed:    0.0s\n",
      "[Parallel(n_jobs=16)]: Done  67 tasks      | elapsed:    0.0s\n",
      "[Parallel(n_jobs=16)]: Done  68 tasks      | elapsed:    0.0s\n",
      "[Parallel(n_jobs=16)]: Done  69 tasks      | elapsed:    0.0s\n",
      "[Parallel(n_jobs=16)]: Done  70 tasks      | elapsed:    0.0s\n",
      "[Parallel(n_jobs=16)]: Done  71 tasks      | elapsed:    0.0s\n",
      "[Parallel(n_jobs=16)]: Done  72 tasks      | elapsed:    0.0s\n",
      "[Parallel(n_jobs=16)]: Done  73 tasks      | elapsed:    0.0s\n",
      "[Parallel(n_jobs=16)]: Done  74 tasks      | elapsed:    0.0s\n",
      "[Parallel(n_jobs=16)]: Done  75 tasks      | elapsed:    0.0s\n",
      "[Parallel(n_jobs=16)]: Done  76 tasks      | elapsed:    0.0s\n",
      "[Parallel(n_jobs=16)]: Done  77 tasks      | elapsed:    0.0s\n",
      "[Parallel(n_jobs=16)]: Done 400 out of 400 | elapsed:    0.1s finished\n",
      "[Parallel(n_jobs=16)]: Done  78 tasks      | elapsed:    0.0s\n",
      "[Parallel(n_jobs=16)]: Done  79 tasks      | elapsed:    0.0s\n",
      "[Parallel(n_jobs=16)]: Done  80 tasks      | elapsed:    0.0s\n",
      "[Parallel(n_jobs=16)]: Done  81 tasks      | elapsed:    0.0s\n",
      "[Parallel(n_jobs=16)]: Done  82 tasks      | elapsed:    0.0s\n",
      "[Parallel(n_jobs=16)]: Done  83 tasks      | elapsed:    0.0s\n",
      "[Parallel(n_jobs=16)]: Done  84 tasks      | elapsed:    0.0s\n",
      "[Parallel(n_jobs=16)]: Done  85 tasks      | elapsed:    0.0s\n",
      "[Parallel(n_jobs=16)]: Done  86 tasks      | elapsed:    0.0s\n",
      "[Parallel(n_jobs=16)]: Done  87 tasks      | elapsed:    0.0s\n",
      "[Parallel(n_jobs=16)]: Done  88 tasks      | elapsed:    0.0s\n",
      "[Parallel(n_jobs=16)]: Done  89 tasks      | elapsed:    0.0s\n",
      "[Parallel(n_jobs=16)]: Done  90 tasks      | elapsed:    0.0s\n",
      "[Parallel(n_jobs=16)]: Done  91 tasks      | elapsed:    0.0s\n",
      "[Parallel(n_jobs=16)]: Done  92 tasks      | elapsed:    0.0s\n",
      "[Parallel(n_jobs=16)]: Done  93 tasks      | elapsed:    0.0s\n",
      "[Parallel(n_jobs=16)]: Done  94 tasks      | elapsed:    0.0s\n",
      "[Parallel(n_jobs=16)]: Done  95 tasks      | elapsed:    0.0s\n",
      "[Parallel(n_jobs=16)]: Done  96 tasks      | elapsed:    0.0s\n",
      "[Parallel(n_jobs=16)]: Done  97 tasks      | elapsed:    0.0s\n",
      "[Parallel(n_jobs=16)]: Done  98 tasks      | elapsed:    0.0s\n",
      "[Parallel(n_jobs=16)]: Done  99 tasks      | elapsed:    0.0s\n",
      "[Parallel(n_jobs=16)]: Done 100 tasks      | elapsed:    0.0s\n",
      "[Parallel(n_jobs=16)]: Done 101 tasks      | elapsed:    0.0s\n",
      "[Parallel(n_jobs=16)]: Done 102 tasks      | elapsed:    0.0s\n",
      "[Parallel(n_jobs=16)]: Done 103 tasks      | elapsed:    0.0s\n",
      "[Parallel(n_jobs=16)]: Done 104 tasks      | elapsed:    0.0s\n",
      "[Parallel(n_jobs=16)]: Done 105 tasks      | elapsed:    0.0s\n",
      "[Parallel(n_jobs=16)]: Done 106 tasks      | elapsed:    0.0s\n",
      "[Parallel(n_jobs=16)]: Done 107 tasks      | elapsed:    0.0s\n",
      "[Parallel(n_jobs=16)]: Done 108 tasks      | elapsed:    0.0s\n",
      "[Parallel(n_jobs=16)]: Done 109 tasks      | elapsed:    0.0s\n",
      "[Parallel(n_jobs=16)]: Done 110 tasks      | elapsed:    0.0s\n",
      "[Parallel(n_jobs=16)]: Done 111 tasks      | elapsed:    0.0s\n",
      "[Parallel(n_jobs=16)]: Done 112 tasks      | elapsed:    0.0s\n",
      "[Parallel(n_jobs=16)]: Done 113 tasks      | elapsed:    0.0s\n",
      "[Parallel(n_jobs=16)]: Done 114 tasks      | elapsed:    0.0s\n",
      "[Parallel(n_jobs=16)]: Done 115 tasks      | elapsed:    0.0s\n",
      "[Parallel(n_jobs=16)]: Done 116 tasks      | elapsed:    0.0s\n",
      "[Parallel(n_jobs=16)]: Done 117 tasks      | elapsed:    0.0s\n",
      "[Parallel(n_jobs=16)]: Done 118 tasks      | elapsed:    0.0s\n",
      "[Parallel(n_jobs=16)]: Done 119 tasks      | elapsed:    0.0s\n",
      "[Parallel(n_jobs=16)]: Done 120 tasks      | elapsed:    0.0s\n",
      "[Parallel(n_jobs=16)]: Done 121 tasks      | elapsed:    0.0s\n",
      "[Parallel(n_jobs=16)]: Done 122 tasks      | elapsed:    0.0s\n",
      "[Parallel(n_jobs=16)]: Done 123 tasks      | elapsed:    0.0s\n",
      "[Parallel(n_jobs=16)]: Done 124 tasks      | elapsed:    0.0s\n",
      "[Parallel(n_jobs=16)]: Done 125 tasks      | elapsed:    0.0s\n",
      "[Parallel(n_jobs=16)]: Done 126 tasks      | elapsed:    0.0s\n",
      "[Parallel(n_jobs=16)]: Done 127 tasks      | elapsed:    0.0s\n",
      "[Parallel(n_jobs=16)]: Done 128 tasks      | elapsed:    0.0s\n",
      "[Parallel(n_jobs=16)]: Done 129 tasks      | elapsed:    0.0s\n",
      "[Parallel(n_jobs=16)]: Done 130 tasks      | elapsed:    0.0s\n",
      "[Parallel(n_jobs=16)]: Done 131 tasks      | elapsed:    0.0s\n",
      "[Parallel(n_jobs=16)]: Done 132 tasks      | elapsed:    0.0s\n",
      "[Parallel(n_jobs=16)]: Done 133 tasks      | elapsed:    0.0s\n",
      "[Parallel(n_jobs=16)]: Done 134 tasks      | elapsed:    0.0s\n",
      "[Parallel(n_jobs=16)]: Done 135 tasks      | elapsed:    0.0s\n",
      "[Parallel(n_jobs=16)]: Done 136 tasks      | elapsed:    0.0s\n",
      "[Parallel(n_jobs=16)]: Done 137 tasks      | elapsed:    0.0s\n",
      "[Parallel(n_jobs=16)]: Done 138 tasks      | elapsed:    0.0s\n",
      "[Parallel(n_jobs=16)]: Done 139 tasks      | elapsed:    0.0s\n",
      "[Parallel(n_jobs=16)]: Done 140 tasks      | elapsed:    0.0s\n",
      "[Parallel(n_jobs=16)]: Done 141 tasks      | elapsed:    0.0s\n",
      "[Parallel(n_jobs=16)]: Done 142 tasks      | elapsed:    0.0s\n",
      "[Parallel(n_jobs=16)]: Done 143 tasks      | elapsed:    0.0s\n",
      "[Parallel(n_jobs=16)]: Done 144 tasks      | elapsed:    0.0s\n",
      "[Parallel(n_jobs=16)]: Done 145 tasks      | elapsed:    0.0s\n",
      "[Parallel(n_jobs=16)]: Done 146 tasks      | elapsed:    0.0s\n",
      "[Parallel(n_jobs=16)]: Done 147 tasks      | elapsed:    0.0s\n",
      "[Parallel(n_jobs=16)]: Done 148 tasks      | elapsed:    0.0s\n",
      "[Parallel(n_jobs=16)]: Done 149 tasks      | elapsed:    0.0s\n",
      "[Parallel(n_jobs=16)]: Done 150 tasks      | elapsed:    0.0s\n",
      "[Parallel(n_jobs=16)]: Done 151 tasks      | elapsed:    0.0s\n",
      "[Parallel(n_jobs=16)]: Done 152 tasks      | elapsed:    0.0s\n",
      "[Parallel(n_jobs=16)]: Done 153 tasks      | elapsed:    0.0s\n",
      "[Parallel(n_jobs=16)]: Done 154 tasks      | elapsed:    0.0s\n",
      "[Parallel(n_jobs=16)]: Done 155 tasks      | elapsed:    0.0s\n",
      "[Parallel(n_jobs=16)]: Done 156 tasks      | elapsed:    0.0s\n",
      "[Parallel(n_jobs=16)]: Done 157 tasks      | elapsed:    0.0s\n",
      "[Parallel(n_jobs=16)]: Done 158 tasks      | elapsed:    0.0s\n",
      "[Parallel(n_jobs=16)]: Done 159 tasks      | elapsed:    0.0s\n",
      "[Parallel(n_jobs=16)]: Done 160 tasks      | elapsed:    0.0s\n",
      "[Parallel(n_jobs=16)]: Done 161 tasks      | elapsed:    0.0s\n",
      "[Parallel(n_jobs=16)]: Done 162 tasks      | elapsed:    0.0s\n",
      "[Parallel(n_jobs=16)]: Done 163 tasks      | elapsed:    0.0s\n",
      "[Parallel(n_jobs=16)]: Done 164 tasks      | elapsed:    0.0s\n",
      "[Parallel(n_jobs=16)]: Done 165 tasks      | elapsed:    0.0s\n",
      "[Parallel(n_jobs=16)]: Done 166 tasks      | elapsed:    0.0s\n",
      "[Parallel(n_jobs=16)]: Done 167 tasks      | elapsed:    0.0s\n",
      "[Parallel(n_jobs=16)]: Done 168 tasks      | elapsed:    0.0s\n",
      "[Parallel(n_jobs=16)]: Done 169 tasks      | elapsed:    0.0s\n",
      "[Parallel(n_jobs=16)]: Done 170 tasks      | elapsed:    0.0s\n",
      "[Parallel(n_jobs=16)]: Done 171 tasks      | elapsed:    0.0s\n",
      "[Parallel(n_jobs=16)]: Done 172 tasks      | elapsed:    0.0s\n",
      "[Parallel(n_jobs=16)]: Done 173 tasks      | elapsed:    0.0s\n",
      "[Parallel(n_jobs=16)]: Done 174 tasks      | elapsed:    0.0s\n",
      "[Parallel(n_jobs=16)]: Done 175 tasks      | elapsed:    0.0s\n",
      "[Parallel(n_jobs=16)]: Done 176 tasks      | elapsed:    0.0s\n",
      "[Parallel(n_jobs=16)]: Done 177 tasks      | elapsed:    0.0s\n",
      "[Parallel(n_jobs=16)]: Done 178 tasks      | elapsed:    0.0s\n",
      "[Parallel(n_jobs=16)]: Done 179 tasks      | elapsed:    0.0s\n",
      "[Parallel(n_jobs=16)]: Done 180 tasks      | elapsed:    0.0s\n",
      "[Parallel(n_jobs=16)]: Done 181 tasks      | elapsed:    0.0s\n",
      "[Parallel(n_jobs=16)]: Done 182 tasks      | elapsed:    0.0s\n",
      "[Parallel(n_jobs=16)]: Done 183 tasks      | elapsed:    0.0s\n",
      "[Parallel(n_jobs=16)]: Done 184 tasks      | elapsed:    0.0s\n",
      "[Parallel(n_jobs=16)]: Done 185 tasks      | elapsed:    0.0s\n",
      "[Parallel(n_jobs=16)]: Done 186 tasks      | elapsed:    0.0s\n",
      "[Parallel(n_jobs=16)]: Done 187 tasks      | elapsed:    0.0s\n",
      "[Parallel(n_jobs=16)]: Done 188 tasks      | elapsed:    0.0s\n",
      "[Parallel(n_jobs=16)]: Done 189 tasks      | elapsed:    0.0s\n",
      "[Parallel(n_jobs=16)]: Done 190 tasks      | elapsed:    0.0s\n",
      "[Parallel(n_jobs=16)]: Done 191 tasks      | elapsed:    0.0s\n",
      "[Parallel(n_jobs=16)]: Done 192 tasks      | elapsed:    0.0s\n",
      "[Parallel(n_jobs=16)]: Done 193 tasks      | elapsed:    0.0s\n",
      "[Parallel(n_jobs=16)]: Done 194 tasks      | elapsed:    0.0s\n",
      "[Parallel(n_jobs=16)]: Done 195 tasks      | elapsed:    0.0s\n",
      "[Parallel(n_jobs=16)]: Done 196 tasks      | elapsed:    0.0s\n",
      "[Parallel(n_jobs=16)]: Done 197 tasks      | elapsed:    0.0s\n",
      "[Parallel(n_jobs=16)]: Done 198 tasks      | elapsed:    0.0s\n",
      "[Parallel(n_jobs=16)]: Done 199 tasks      | elapsed:    0.0s\n",
      "[Parallel(n_jobs=16)]: Done 200 tasks      | elapsed:    0.0s\n",
      "[Parallel(n_jobs=16)]: Done 201 tasks      | elapsed:    0.0s\n",
      "[Parallel(n_jobs=16)]: Done 202 tasks      | elapsed:    0.0s\n",
      "[Parallel(n_jobs=16)]: Done 203 tasks      | elapsed:    0.0s\n",
      "[Parallel(n_jobs=16)]: Done 204 tasks      | elapsed:    0.0s\n",
      "[Parallel(n_jobs=16)]: Done 205 tasks      | elapsed:    0.0s\n",
      "[Parallel(n_jobs=16)]: Done 206 tasks      | elapsed:    0.0s\n",
      "[Parallel(n_jobs=16)]: Done 207 tasks      | elapsed:    0.0s\n",
      "[Parallel(n_jobs=16)]: Done 208 tasks      | elapsed:    0.0s\n",
      "[Parallel(n_jobs=16)]: Done 209 tasks      | elapsed:    0.0s\n",
      "[Parallel(n_jobs=16)]: Done 210 tasks      | elapsed:    0.0s\n",
      "[Parallel(n_jobs=16)]: Done 211 tasks      | elapsed:    0.0s\n",
      "[Parallel(n_jobs=16)]: Done 212 tasks      | elapsed:    0.0s\n",
      "[Parallel(n_jobs=16)]: Done 213 tasks      | elapsed:    0.0s\n",
      "[Parallel(n_jobs=16)]: Done 214 tasks      | elapsed:    0.0s\n",
      "[Parallel(n_jobs=16)]: Done 215 tasks      | elapsed:    0.0s\n",
      "[Parallel(n_jobs=16)]: Done 216 tasks      | elapsed:    0.0s\n",
      "[Parallel(n_jobs=16)]: Done 217 tasks      | elapsed:    0.0s\n",
      "[Parallel(n_jobs=16)]: Done 218 tasks      | elapsed:    0.0s\n",
      "[Parallel(n_jobs=16)]: Done 219 tasks      | elapsed:    0.0s\n",
      "[Parallel(n_jobs=16)]: Done 220 tasks      | elapsed:    0.0s\n",
      "[Parallel(n_jobs=16)]: Done 221 tasks      | elapsed:    0.0s\n",
      "[Parallel(n_jobs=16)]: Done 222 tasks      | elapsed:    0.0s\n",
      "[Parallel(n_jobs=16)]: Done 223 tasks      | elapsed:    0.0s\n",
      "[Parallel(n_jobs=16)]: Done 224 tasks      | elapsed:    0.1s\n",
      "[Parallel(n_jobs=16)]: Done 225 tasks      | elapsed:    0.1s\n",
      "[Parallel(n_jobs=16)]: Done 226 tasks      | elapsed:    0.1s\n",
      "[Parallel(n_jobs=16)]: Done 227 tasks      | elapsed:    0.1s\n",
      "[Parallel(n_jobs=16)]: Done 228 tasks      | elapsed:    0.1s\n",
      "[Parallel(n_jobs=16)]: Done 229 tasks      | elapsed:    0.1s\n",
      "[Parallel(n_jobs=16)]: Done 230 tasks      | elapsed:    0.1s\n",
      "[Parallel(n_jobs=16)]: Done 231 tasks      | elapsed:    0.1s\n",
      "[Parallel(n_jobs=16)]: Done 232 tasks      | elapsed:    0.1s\n",
      "[Parallel(n_jobs=16)]: Done 233 tasks      | elapsed:    0.1s\n",
      "[Parallel(n_jobs=16)]: Done 234 tasks      | elapsed:    0.1s\n",
      "[Parallel(n_jobs=16)]: Done 235 tasks      | elapsed:    0.1s\n",
      "[Parallel(n_jobs=16)]: Done 236 tasks      | elapsed:    0.1s\n",
      "[Parallel(n_jobs=16)]: Done 237 tasks      | elapsed:    0.1s\n",
      "[Parallel(n_jobs=16)]: Done 238 tasks      | elapsed:    0.1s\n",
      "[Parallel(n_jobs=16)]: Done 239 tasks      | elapsed:    0.1s\n",
      "[Parallel(n_jobs=16)]: Done 240 tasks      | elapsed:    0.1s\n",
      "[Parallel(n_jobs=16)]: Done 241 tasks      | elapsed:    0.1s\n",
      "[Parallel(n_jobs=16)]: Done 242 tasks      | elapsed:    0.1s\n",
      "[Parallel(n_jobs=16)]: Done 243 tasks      | elapsed:    0.1s\n",
      "[Parallel(n_jobs=16)]: Done 244 tasks      | elapsed:    0.1s\n",
      "[Parallel(n_jobs=16)]: Done 245 tasks      | elapsed:    0.1s\n",
      "[Parallel(n_jobs=16)]: Done 246 tasks      | elapsed:    0.1s\n",
      "[Parallel(n_jobs=16)]: Done 247 tasks      | elapsed:    0.1s\n",
      "[Parallel(n_jobs=16)]: Done 248 tasks      | elapsed:    0.1s\n",
      "[Parallel(n_jobs=16)]: Done 249 tasks      | elapsed:    0.1s\n",
      "[Parallel(n_jobs=16)]: Done 250 tasks      | elapsed:    0.1s\n",
      "[Parallel(n_jobs=16)]: Done 251 tasks      | elapsed:    0.1s\n",
      "[Parallel(n_jobs=16)]: Done 252 tasks      | elapsed:    0.1s\n",
      "[Parallel(n_jobs=16)]: Done 253 tasks      | elapsed:    0.1s\n",
      "[Parallel(n_jobs=16)]: Done 254 tasks      | elapsed:    0.1s\n",
      "[Parallel(n_jobs=16)]: Done 255 tasks      | elapsed:    0.1s\n",
      "[Parallel(n_jobs=16)]: Done 256 tasks      | elapsed:    0.1s\n",
      "[Parallel(n_jobs=16)]: Done 257 tasks      | elapsed:    0.1s\n",
      "[Parallel(n_jobs=16)]: Done 258 tasks      | elapsed:    0.1s\n",
      "[Parallel(n_jobs=16)]: Done 259 tasks      | elapsed:    0.1s\n",
      "[Parallel(n_jobs=16)]: Done 260 tasks      | elapsed:    0.1s\n",
      "[Parallel(n_jobs=16)]: Done 261 tasks      | elapsed:    0.1s\n",
      "[Parallel(n_jobs=16)]: Done 262 tasks      | elapsed:    0.1s\n",
      "[Parallel(n_jobs=16)]: Done 263 tasks      | elapsed:    0.1s\n",
      "[Parallel(n_jobs=16)]: Done 264 tasks      | elapsed:    0.1s\n",
      "[Parallel(n_jobs=16)]: Done 265 tasks      | elapsed:    0.1s\n",
      "[Parallel(n_jobs=16)]: Done 266 tasks      | elapsed:    0.1s\n",
      "[Parallel(n_jobs=16)]: Done 267 tasks      | elapsed:    0.1s\n",
      "[Parallel(n_jobs=16)]: Done 268 tasks      | elapsed:    0.1s\n",
      "[Parallel(n_jobs=16)]: Done 269 tasks      | elapsed:    0.1s\n",
      "[Parallel(n_jobs=16)]: Done 270 tasks      | elapsed:    0.1s\n",
      "[Parallel(n_jobs=16)]: Done 271 tasks      | elapsed:    0.1s\n",
      "[Parallel(n_jobs=16)]: Done 272 tasks      | elapsed:    0.1s\n",
      "[Parallel(n_jobs=16)]: Done 273 tasks      | elapsed:    0.1s\n",
      "[Parallel(n_jobs=16)]: Done 274 tasks      | elapsed:    0.1s\n",
      "[Parallel(n_jobs=16)]: Done 275 tasks      | elapsed:    0.1s\n",
      "[Parallel(n_jobs=16)]: Done 276 tasks      | elapsed:    0.1s\n",
      "[Parallel(n_jobs=16)]: Done 277 tasks      | elapsed:    0.1s\n",
      "[Parallel(n_jobs=16)]: Done 278 tasks      | elapsed:    0.1s\n",
      "[Parallel(n_jobs=16)]: Done 279 tasks      | elapsed:    0.1s\n",
      "[Parallel(n_jobs=16)]: Done 280 tasks      | elapsed:    0.1s\n",
      "[Parallel(n_jobs=16)]: Done 281 tasks      | elapsed:    0.1s\n",
      "[Parallel(n_jobs=16)]: Done 282 tasks      | elapsed:    0.1s\n",
      "[Parallel(n_jobs=16)]: Done 283 tasks      | elapsed:    0.1s\n",
      "[Parallel(n_jobs=16)]: Done 284 tasks      | elapsed:    0.1s\n",
      "[Parallel(n_jobs=16)]: Done 285 tasks      | elapsed:    0.1s\n",
      "[Parallel(n_jobs=16)]: Done 286 tasks      | elapsed:    0.1s\n",
      "[Parallel(n_jobs=16)]: Done 287 tasks      | elapsed:    0.1s\n",
      "[Parallel(n_jobs=16)]: Done 288 tasks      | elapsed:    0.1s\n",
      "[Parallel(n_jobs=16)]: Done 289 tasks      | elapsed:    0.1s\n",
      "[Parallel(n_jobs=16)]: Done 290 tasks      | elapsed:    0.1s\n",
      "[Parallel(n_jobs=16)]: Done 291 tasks      | elapsed:    0.1s\n",
      "[Parallel(n_jobs=16)]: Done 292 tasks      | elapsed:    0.1s\n",
      "[Parallel(n_jobs=16)]: Done 293 tasks      | elapsed:    0.1s\n",
      "[Parallel(n_jobs=16)]: Done 294 tasks      | elapsed:    0.1s\n",
      "[Parallel(n_jobs=16)]: Done 295 tasks      | elapsed:    0.1s\n",
      "[Parallel(n_jobs=16)]: Done 296 tasks      | elapsed:    0.1s\n",
      "[Parallel(n_jobs=16)]: Done 297 tasks      | elapsed:    0.1s\n",
      "[Parallel(n_jobs=16)]: Done 298 tasks      | elapsed:    0.1s\n",
      "[Parallel(n_jobs=16)]: Done 299 tasks      | elapsed:    0.1s\n",
      "[Parallel(n_jobs=16)]: Done 300 tasks      | elapsed:    0.1s\n",
      "[Parallel(n_jobs=16)]: Done 301 tasks      | elapsed:    0.1s\n",
      "[Parallel(n_jobs=16)]: Done 302 tasks      | elapsed:    0.1s\n",
      "[Parallel(n_jobs=16)]: Done 303 tasks      | elapsed:    0.1s\n",
      "[Parallel(n_jobs=16)]: Done 304 tasks      | elapsed:    0.1s\n",
      "[Parallel(n_jobs=16)]: Done 305 tasks      | elapsed:    0.1s\n",
      "[Parallel(n_jobs=16)]: Done 306 tasks      | elapsed:    0.1s\n",
      "[Parallel(n_jobs=16)]: Done 307 tasks      | elapsed:    0.1s\n",
      "[Parallel(n_jobs=16)]: Done 308 tasks      | elapsed:    0.1s\n",
      "[Parallel(n_jobs=16)]: Done 309 tasks      | elapsed:    0.1s\n",
      "[Parallel(n_jobs=16)]: Done 310 tasks      | elapsed:    0.1s\n",
      "[Parallel(n_jobs=16)]: Done 311 tasks      | elapsed:    0.1s\n",
      "[Parallel(n_jobs=16)]: Done 312 tasks      | elapsed:    0.1s\n",
      "[Parallel(n_jobs=16)]: Done 313 tasks      | elapsed:    0.1s\n",
      "[Parallel(n_jobs=16)]: Done 314 tasks      | elapsed:    0.1s\n",
      "[Parallel(n_jobs=16)]: Done 315 tasks      | elapsed:    0.1s\n",
      "[Parallel(n_jobs=16)]: Done 316 tasks      | elapsed:    0.1s\n",
      "[Parallel(n_jobs=16)]: Done 317 tasks      | elapsed:    0.1s\n",
      "[Parallel(n_jobs=16)]: Done 318 tasks      | elapsed:    0.1s\n",
      "[Parallel(n_jobs=16)]: Done 319 tasks      | elapsed:    0.1s\n",
      "[Parallel(n_jobs=16)]: Done 320 tasks      | elapsed:    0.1s\n",
      "[Parallel(n_jobs=16)]: Done 321 tasks      | elapsed:    0.1s\n",
      "[Parallel(n_jobs=16)]: Done 322 tasks      | elapsed:    0.1s\n",
      "[Parallel(n_jobs=16)]: Done 323 tasks      | elapsed:    0.1s\n",
      "[Parallel(n_jobs=16)]: Done 324 tasks      | elapsed:    0.1s\n",
      "[Parallel(n_jobs=16)]: Done 325 tasks      | elapsed:    0.1s\n",
      "[Parallel(n_jobs=16)]: Done 326 tasks      | elapsed:    0.1s\n",
      "[Parallel(n_jobs=16)]: Done 327 tasks      | elapsed:    0.1s\n",
      "[Parallel(n_jobs=16)]: Done 328 tasks      | elapsed:    0.1s\n",
      "[Parallel(n_jobs=16)]: Done 329 tasks      | elapsed:    0.1s\n",
      "[Parallel(n_jobs=16)]: Done 330 tasks      | elapsed:    0.1s\n",
      "[Parallel(n_jobs=16)]: Done 331 tasks      | elapsed:    0.1s\n",
      "[Parallel(n_jobs=16)]: Done 332 tasks      | elapsed:    0.1s\n",
      "[Parallel(n_jobs=16)]: Done 333 tasks      | elapsed:    0.1s\n",
      "[Parallel(n_jobs=16)]: Done 334 tasks      | elapsed:    0.1s\n",
      "[Parallel(n_jobs=16)]: Done 335 tasks      | elapsed:    0.1s\n",
      "[Parallel(n_jobs=16)]: Done 336 tasks      | elapsed:    0.1s\n",
      "[Parallel(n_jobs=16)]: Done 337 tasks      | elapsed:    0.1s\n",
      "[Parallel(n_jobs=16)]: Done 338 tasks      | elapsed:    0.1s\n",
      "[Parallel(n_jobs=16)]: Done 339 tasks      | elapsed:    0.1s\n",
      "[Parallel(n_jobs=16)]: Done 340 tasks      | elapsed:    0.1s\n",
      "[Parallel(n_jobs=16)]: Done 341 tasks      | elapsed:    0.1s\n",
      "[Parallel(n_jobs=16)]: Done 342 tasks      | elapsed:    0.1s\n",
      "[Parallel(n_jobs=16)]: Done 343 tasks      | elapsed:    0.1s\n",
      "[Parallel(n_jobs=16)]: Done 344 tasks      | elapsed:    0.1s\n",
      "[Parallel(n_jobs=16)]: Done 345 tasks      | elapsed:    0.1s\n",
      "[Parallel(n_jobs=16)]: Done 346 tasks      | elapsed:    0.1s\n",
      "[Parallel(n_jobs=16)]: Done 347 tasks      | elapsed:    0.1s\n",
      "[Parallel(n_jobs=16)]: Done 348 tasks      | elapsed:    0.1s\n",
      "[Parallel(n_jobs=16)]: Done 349 tasks      | elapsed:    0.1s\n",
      "[Parallel(n_jobs=16)]: Done 350 tasks      | elapsed:    0.1s\n",
      "[Parallel(n_jobs=16)]: Done 351 tasks      | elapsed:    0.1s\n",
      "[Parallel(n_jobs=16)]: Done 352 tasks      | elapsed:    0.1s\n",
      "[Parallel(n_jobs=16)]: Done 353 tasks      | elapsed:    0.1s\n",
      "[Parallel(n_jobs=16)]: Done 354 tasks      | elapsed:    0.1s\n",
      "[Parallel(n_jobs=16)]: Done 355 tasks      | elapsed:    0.1s\n",
      "[Parallel(n_jobs=16)]: Done 356 tasks      | elapsed:    0.1s\n",
      "[Parallel(n_jobs=16)]: Done 357 tasks      | elapsed:    0.1s\n",
      "[Parallel(n_jobs=16)]: Done 358 tasks      | elapsed:    0.1s\n",
      "[Parallel(n_jobs=16)]: Done 359 tasks      | elapsed:    0.1s\n",
      "[Parallel(n_jobs=16)]: Done 360 tasks      | elapsed:    0.1s\n",
      "[Parallel(n_jobs=16)]: Done 361 tasks      | elapsed:    0.1s\n",
      "[Parallel(n_jobs=16)]: Done 362 tasks      | elapsed:    0.1s\n",
      "[Parallel(n_jobs=16)]: Done 363 tasks      | elapsed:    0.1s\n",
      "[Parallel(n_jobs=16)]: Done 364 tasks      | elapsed:    0.1s\n",
      "[Parallel(n_jobs=16)]: Done 365 tasks      | elapsed:    0.1s\n",
      "[Parallel(n_jobs=16)]: Done 366 tasks      | elapsed:    0.1s\n",
      "[Parallel(n_jobs=16)]: Done 367 tasks      | elapsed:    0.1s\n",
      "[Parallel(n_jobs=16)]: Done 368 tasks      | elapsed:    0.1s\n",
      "[Parallel(n_jobs=16)]: Done 369 tasks      | elapsed:    0.1s\n",
      "[Parallel(n_jobs=16)]: Done 378 out of 400 | elapsed:    0.1s remaining:    0.0s\n",
      "[Parallel(n_jobs=16)]: Done 387 out of 400 | elapsed:    0.1s remaining:    0.0s\n",
      "[Parallel(n_jobs=16)]: Done 396 out of 400 | elapsed:    0.1s remaining:    0.0s\n",
      "[ 0.02670723  0.00096826  0.01276863  0.00014663  0.04067919  0.00779243]\n"
     ]
    }
   ],
   "source": [
    "ref = prepare_test_data('german',tfidf=tfidf,clf=clf)"
   ]
  },
  {
   "cell_type": "code",
   "execution_count": 224,
   "metadata": {
    "collapsed": true
   },
   "outputs": [],
   "source": [
    "result = pd.DataFrame(ref.values,columns = ref.columns)"
   ]
  },
  {
   "cell_type": "code",
   "execution_count": 236,
   "metadata": {
    "collapsed": false
   },
   "outputs": [
    {
     "data": {
      "text/html": [
       "<div>\n",
       "<style>\n",
       "    .dataframe thead tr:only-child th {\n",
       "        text-align: right;\n",
       "    }\n",
       "\n",
       "    .dataframe thead th {\n",
       "        text-align: left;\n",
       "    }\n",
       "\n",
       "    .dataframe tbody tr th {\n",
       "        vertical-align: top;\n",
       "    }\n",
       "</style>\n",
       "<table border=\"1\" class=\"dataframe\">\n",
       "  <thead>\n",
       "    <tr style=\"text-align: right;\">\n",
       "      <th></th>\n",
       "      <th>toxic</th>\n",
       "      <th>severe_toxic</th>\n",
       "      <th>obscene</th>\n",
       "      <th>threat</th>\n",
       "      <th>insult</th>\n",
       "      <th>identity_hate</th>\n",
       "    </tr>\n",
       "  </thead>\n",
       "  <tbody>\n",
       "    <tr>\n",
       "      <th>0</th>\n",
       "      <td>0.026707</td>\n",
       "      <td>0.000968</td>\n",
       "      <td>0.012769</td>\n",
       "      <td>0.000147</td>\n",
       "      <td>0.040679</td>\n",
       "      <td>0.007792</td>\n",
       "    </tr>\n",
       "  </tbody>\n",
       "</table>\n",
       "</div>"
      ],
      "text/plain": [
       "      toxic  severe_toxic   obscene    threat    insult  identity_hate\n",
       "0  0.026707      0.000968  0.012769  0.000147  0.040679       0.007792"
      ]
     },
     "execution_count": 236,
     "metadata": {},
     "output_type": "execute_result"
    }
   ],
   "source": [
    "result"
   ]
  },
  {
   "cell_type": "code",
   "execution_count": 258,
   "metadata": {
    "collapsed": false
   },
   "outputs": [
    {
     "data": {
      "image/png": "[encoded data removed]",
      "text/plain": [
       "<matplotlib.figure.Figure at 0x2357f7066a0>"
      ]
     },
     "metadata": {},
     "output_type": "display_data"
    }
   ],
   "source": [
    "plt.figure(figsize=(10,6))\n",
    "plt.plot(result.loc[0].values)\n",
    "plt.xlabel('         -         '.join([i for i in result.columns]))\n",
    "plt.ylabel(\" Probabilty   for   given   class       ====>\")\n",
    "plt.show()"
   ]
  },
  {
   "cell_type": "code",
   "execution_count": null,
   "metadata": {
    "collapsed": true
   },
   "outputs": [],
   "source": []
  },
  {
   "cell_type": "code",
   "execution_count": null,
   "metadata": {
    "collapsed": true
   },
   "outputs": [],
   "source": []
  },
  {
   "cell_type": "code",
   "execution_count": null,
   "metadata": {
    "collapsed": true
   },
   "outputs": [],
   "source": []
  },
  {
   "cell_type": "code",
   "execution_count": null,
   "metadata": {
    "collapsed": true
   },
   "outputs": [],
   "source": []
  },
  {
   "cell_type": "code",
   "execution_count": null,
   "metadata": {
    "collapsed": true
   },
   "outputs": [],
   "source": []
  },
  {
   "cell_type": "code",
   "execution_count": null,
   "metadata": {
    "collapsed": true
   },
   "outputs": [],
   "source": []
  },
  {
   "cell_type": "code",
   "execution_count": null,
   "metadata": {
    "collapsed": true
   },
   "outputs": [],
   "source": []
  },
  {
   "cell_type": "code",
   "execution_count": null,
   "metadata": {
    "collapsed": true
   },
   "outputs": [],
   "source": []
  },
  {
   "cell_type": "code",
   "execution_count": null,
   "metadata": {
    "collapsed": true
   },
   "outputs": [],
   "source": []
  },
  {
   "cell_type": "code",
   "execution_count": null,
   "metadata": {
    "collapsed": true
   },
   "outputs": [],
   "source": []
  },
  {
   "cell_type": "code",
   "execution_count": null,
   "metadata": {
    "collapsed": true
   },
   "outputs": [],
   "source": []
  },
  {
   "cell_type": "code",
   "execution_count": null,
   "metadata": {
    "collapsed": true
   },
   "outputs": [],
   "source": []
  },
  {
   "cell_type": "code",
   "execution_count": null,
   "metadata": {
    "collapsed": true
   },
   "outputs": [],
   "source": []
  },
  {
   "cell_type": "code",
   "execution_count": null,
   "metadata": {
    "collapsed": true
   },
   "outputs": [],
   "source": []
  },
  {
   "cell_type": "code",
   "execution_count": null,
   "metadata": {
    "collapsed": true
   },
   "outputs": [],
   "source": []
  },
  {
   "cell_type": "code",
   "execution_count": null,
   "metadata": {
    "collapsed": true
   },
   "outputs": [],
   "source": []
  },
  {
   "cell_type": "code",
   "execution_count": null,
   "metadata": {
    "collapsed": true
   },
   "outputs": [],
   "source": []
  },
  {
   "cell_type": "code",
   "execution_count": null,
   "metadata": {
    "collapsed": true
   },
   "outputs": [],
   "source": []
  },
  {
   "cell_type": "code",
   "execution_count": null,
   "metadata": {
    "collapsed": true
   },
   "outputs": [],
   "source": []
  },
  {
   "cell_type": "code",
   "execution_count": null,
   "metadata": {
    "collapsed": true
   },
   "outputs": [],
   "source": []
  },
  {
   "cell_type": "code",
   "execution_count": null,
   "metadata": {
    "collapsed": true
   },
   "outputs": [],
   "source": []
  },
  {
   "cell_type": "code",
   "execution_count": null,
   "metadata": {
    "collapsed": true
   },
   "outputs": [],
   "source": []
  },
  {
   "cell_type": "code",
   "execution_count": null,
   "metadata": {
    "collapsed": true
   },
   "outputs": [],
   "source": []
  }
 ],
 "metadata": {
  "anaconda-cloud": {},
  "kernelspec": {
   "display_name": "Python [default]",
   "language": "python",
   "name": "python3"
  },
  "language_info": {
   "codemirror_mode": {
    "name": "ipython",
    "version": 3
   },
   "file_extension": ".py",
   "mimetype": "text/x-python",
   "name": "python",
   "nbconvert_exporter": "python",
   "pygments_lexer": "ipython3",
   "version": "3.5.2"
  }
 },
 "nbformat": 4,
 "nbformat_minor": 2
}
