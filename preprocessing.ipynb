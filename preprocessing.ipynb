{
 "cells": [
  {
   "cell_type": "code",
   "execution_count": 1,
   "metadata": {
    "collapsed": true
   },
   "outputs": [],
   "source": [
    "import pandas as pd\n",
    "import numpy as np\n",
    "from matplotlib import pyplot as plt\n",
    "import seaborn as sns\n",
    "from nltk.stem.porter import PorterStemmer\n",
    "from nltk.tokenize import sent_tokenize,word_tokenize\n",
    "from nltk.corpus import stopwords\n",
    "import nltk\n",
    "import string\n",
    "from string import digits\n",
    "from textblob import TextBlob,Word"
   ]
  },
  {
   "cell_type": "code",
   "execution_count": 98,
   "metadata": {
    "collapsed": true
   },
   "outputs": [],
   "source": [
    "def clean_text_data(df,x,is_lower=True,is_punctuation=True,is_stopwords=True,\n",
    "                    is_stemming=True,special_symbols=['\\n'],verbose=True):\n",
    "    df=df.copy()\n",
    "    #stopword removal\n",
    "    stop_word=list(stopwords.words('english'))\n",
    "    def remove_stopwords(strr):\n",
    "        toke=list(strr.split(' '))\n",
    "        return ' '.join([i for i in toke if i not in stop_word])\n",
    "    \n",
    "    #punctutaion removal\n",
    "    def remove_punctuation(strr):\n",
    "        t_lator=str.maketrans('','',string.punctuation)\n",
    "        strr=strr.translate(t_lator)\n",
    "        remove_digits = str.maketrans('', '', digits)\n",
    "        strr = strr.translate(remove_digits)\n",
    "        return strr\n",
    "    \n",
    "    #stemming\n",
    "    def stem_tokens(tokens, stemmer=PorterStemmer()):\n",
    "        copy=str(tokens)\n",
    "        try:\n",
    "            stemmed,tokens = [],list(tokens.split(' '))\n",
    "            return ' '.join([stemmer.stem(item) for item in tokens])\n",
    "        except:\n",
    "            return copy\n",
    "    \n",
    "    #removing special symbol\n",
    "    def remove_special_symbol(strr,pat):\n",
    "        return strr.replace(pat,\" \")\n",
    "    \n",
    "    def clean_extra_whitespace(y):\n",
    "        for i in range(20):\n",
    "            y=str(y).replace('  ',' ')\n",
    "            y=y.strip()\n",
    "        return y\n",
    "    \n",
    "    #Starting cleaning process\n",
    "    if verbose:\n",
    "        print(\"Starting cleaning process\")\n",
    "        if is_lower:\n",
    "            print('Converting to lower case')\n",
    "            df[x]=df[x].str.lower()\n",
    "        if is_punctuation:\n",
    "            print('Removing Punctuations')\n",
    "            df[x]=df[x].apply(lambda y:remove_punctuation(y))\n",
    "        if is_stopwords:\n",
    "            print('Removing Stopwords')\n",
    "            df[x]=df[x].apply(lambda y:remove_stopwords(y))\n",
    "        if is_stemming:\n",
    "            print('Stemming')\n",
    "            df[x]=df[x].apply(lambda y:stem_tokens(y))\n",
    "        print('Removing ',special_symbols)\n",
    "        for i in special_symbols:\n",
    "            df[x]=df[x].apply(lambda y:remove_special_symbol(y,i))\n",
    "        print('Text cleaning has been successfully completed')\n",
    "        \n",
    "    else:\n",
    "        if is_lower:\n",
    "            df[x]=df[x].str.lower()\n",
    "        if is_punctuation:\n",
    "            df[x]=df[x].apply(lambda y:remove_punctuation(y))\n",
    "        if is_stopwords:\n",
    "            df[x]=df[x].apply(lambda y:remove_stopwords(y))\n",
    "        if is_stemming:\n",
    "            df[x]=df[x].apply(lambda y:stem_tokens(y))\n",
    "        for i in special_symbols:\n",
    "            df[x]=df[x].apply(lambda y:remove_special_symbol(y,i))\n",
    "    df[x]=df[x].apply(lambda y:clean_extra_whitespace(y))    \n",
    "    return df"
   ]
  },
  {
   "cell_type": "code",
   "execution_count": 95,
   "metadata": {
    "collapsed": true
   },
   "outputs": [],
   "source": [
    "def num_of_words(x):\n",
    "    return len(list(str(x).split(' ')))"
   ]
  },
  {
   "cell_type": "code",
   "execution_count": 96,
   "metadata": {
    "collapsed": true
   },
   "outputs": [],
   "source": [
    "train=pd.read_csv('../Data/train.csv')\n",
    "test=pd.read_csv('../Data/test.csv')\n",
    "submission=pd.read_csv('../Data/sample_submission.csv')"
   ]
  },
  {
   "cell_type": "code",
   "execution_count": 100,
   "metadata": {
    "collapsed": false
   },
   "outputs": [
    {
     "name": "stdout",
     "output_type": "stream",
     "text": [
      "Starting cleaning process\n",
      "Converting to lower case\n",
      "Removing Punctuations\n",
      "Removing Stopwords\n",
      "Stemming\n",
      "Removing  ['\\n']\n",
      "Text cleaning has been successfully completed\n"
     ]
    }
   ],
   "source": [
    "new_train=clean_text_data(df=train,x='comment_text')"
   ]
  },
  {
   "cell_type": "code",
   "execution_count": 105,
   "metadata": {
    "collapsed": false
   },
   "outputs": [
    {
     "data": {
      "image/png": "[encoded data removed]",
      "text/plain": [
       "<matplotlib.figure.Figure at 0x1f37d2eb780>"
      ]
     },
     "metadata": {},
     "output_type": "display_data"
    }
   ],
   "source": [
    "pd.DataFrame([len(i) for i in new_train['comment_text'].values]).hist()\n",
    "plt.show()"
   ]
  },
  {
   "cell_type": "code",
   "execution_count": 147,
   "metadata": {
    "collapsed": true
   },
   "outputs": [],
   "source": [
    "new_train['comment_text_char_length']=[len(i) for i in new_train['comment_text'].values]\n",
    "new_train['comment_text_word_length']=new_train['comment_text'].apply(lambda x:num_of_words(x))"
   ]
  },
  {
   "cell_type": "code",
   "execution_count": 109,
   "metadata": {
    "collapsed": false
   },
   "outputs": [
    {
     "name": "stdout",
     "output_type": "stream",
     "text": [
      "Starting cleaning process\n",
      "Converting to lower case\n",
      "Removing Punctuations\n",
      "Removing Stopwords\n",
      "Stemming\n",
      "Removing  ['\\n']\n",
      "Text cleaning has been successfully completed\n"
     ]
    }
   ],
   "source": [
    "new_test=clean_text_data(df=test,x='comment_text')"
   ]
  },
  {
   "cell_type": "code",
   "execution_count": 148,
   "metadata": {
    "collapsed": true
   },
   "outputs": [],
   "source": [
    "new_test['comment_text_char_length']=[len(i) for i in new_test['comment_text'].values]\n",
    "new_test['comment_text_word_length']=new_test['comment_text'].apply(lambda x:num_of_words(x))"
   ]
  },
  {
   "cell_type": "code",
   "execution_count": 117,
   "metadata": {
    "collapsed": false
   },
   "outputs": [
    {
     "data": {
      "image/png": "[encoded data removed]",
      "text/plain": [
       "<matplotlib.figure.Figure at 0x1f301e5ac18>"
      ]
     },
     "metadata": {},
     "output_type": "display_data"
    }
   ],
   "source": [
    "pd.DataFrame([len(i) for i in new_test['comment_text'].values]).hist()\n",
    "plt.show()"
   ]
  },
  {
   "cell_type": "code",
   "execution_count": 144,
   "metadata": {
    "collapsed": false
   },
   "outputs": [
    {
     "name": "stderr",
     "output_type": "stream",
     "text": [
      "C:\\ProgramData\\Anaconda3\\lib\\site-packages\\ipykernel_launcher.py:1: SettingWithCopyWarning: \n",
      "A value is trying to be set on a copy of a slice from a DataFrame\n",
      "\n",
      "See the caveats in the documentation: http://pandas.pydata.org/pandas-docs/stable/indexing.html#indexing-view-versus-copy\n",
      "  \"\"\"Entry point for launching an IPython kernel.\n",
      "C:\\ProgramData\\Anaconda3\\lib\\site-packages\\ipykernel_launcher.py:2: SettingWithCopyWarning: \n",
      "A value is trying to be set on a copy of a slice from a DataFrame\n",
      "\n",
      "See the caveats in the documentation: http://pandas.pydata.org/pandas-docs/stable/indexing.html#indexing-view-versus-copy\n",
      "  \n"
     ]
    }
   ],
   "source": [
    "new_train['comment_text'][new_train['comment_text']=='unknown']='O'\n",
    "new_test['comment_text'][new_test['comment_text']=='unknown']='O'"
   ]
  },
  {
   "cell_type": "code",
   "execution_count": null,
   "metadata": {
    "collapsed": true
   },
   "outputs": [],
   "source": [
    "train_old=pd.read_csv('../Data/train.csv')\n",
    "test_old=pd.read_csv('../Data/test.csv')"
   ]
  },
  {
   "cell_type": "code",
   "execution_count": 153,
   "metadata": {
    "collapsed": true
   },
   "outputs": [],
   "source": [
    "def polarity(x):\n",
    "    return TextBlob(x).sentiment.polarity"
   ]
  },
  {
   "cell_type": "code",
   "execution_count": null,
   "metadata": {
    "collapsed": true
   },
   "outputs": [],
   "source": [
    "# Takes 10 minutees to complete :O\n",
    "train['polarity']=train_old['comment_text'].apply(lambda x:polarity(x))\n",
    "test['polarity']=test_old['comment_text'].apply(lambda x:polarity(x))"
   ]
  },
  {
   "cell_type": "code",
   "execution_count": null,
   "metadata": {
    "collapsed": true
   },
   "outputs": [],
   "source": []
  },
  {
   "cell_type": "code",
   "execution_count": 151,
   "metadata": {
    "collapsed": true
   },
   "outputs": [],
   "source": [
    "new_test.to_csv('../Data/cleaned_test.csv',index=False)\n",
    "new_train.to_csv('../Data/cleaned_train.csv',index=False)"
   ]
  }
 ],
 "metadata": {
  "anaconda-cloud": {},
  "kernelspec": {
   "display_name": "Python [default]",
   "language": "python",
   "name": "python3"
  },
  "language_info": {
   "codemirror_mode": {
    "name": "ipython",
    "version": 3
   },
   "file_extension": ".py",
   "mimetype": "text/x-python",
   "name": "python",
   "nbconvert_exporter": "python",
   "pygments_lexer": "ipython3",
   "version": "3.5.2"
  }
 },
 "nbformat": 4,
 "nbformat_minor": 2
}
