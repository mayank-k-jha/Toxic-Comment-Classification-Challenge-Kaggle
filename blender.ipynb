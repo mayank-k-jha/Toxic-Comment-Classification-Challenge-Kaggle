{
 "cells": [
  {
   "cell_type": "code",
   "execution_count": 24,
   "metadata": {
    "collapsed": true
   },
   "outputs": [],
   "source": [
    "import pandas as pd\n",
    "import numpy as np"
   ]
  },
  {
   "cell_type": "code",
   "execution_count": 16,
   "metadata": {
    "collapsed": true
   },
   "outputs": [],
   "source": [
    "blend={}\n",
    "for i in range(5,8):\n",
    "    blend[str(i)]=pd.read_csv('../Submissions/'+str(i)+'.csv')"
   ]
  },
  {
   "cell_type": "code",
   "execution_count": 25,
   "metadata": {
    "collapsed": true
   },
   "outputs": [],
   "source": [
    "blend={}\n",
    "blend['1']=pd.read_csv('../Submissions/.9851.csv')\n",
    "blend['2']=pd.read_csv('../Submissions/.9854.csv')\n",
    "blend['3']=pd.read_csv('../Submissions/my_blend_new1.csv')"
   ]
  },
  {
   "cell_type": "code",
   "execution_count": 26,
   "metadata": {
    "collapsed": true
   },
   "outputs": [],
   "source": [
    "sub=pd.DataFrame()"
   ]
  },
  {
   "cell_type": "code",
   "execution_count": 27,
   "metadata": {
    "collapsed": true
   },
   "outputs": [],
   "source": [
    "sub['id']=blend['1']['id']"
   ]
  },
  {
   "cell_type": "code",
   "execution_count": 28,
   "metadata": {},
   "outputs": [],
   "source": [
    "# for k in ['toxic','severe_toxic','obscene','threat','insult','identity_hate']:\n",
    "#     sub[k]=blend['1'][k]\n",
    "#     for i in range(6,8):\n",
    "#         sub[k]+=blend[str(i)][k]\n",
    "#     sub[k]=sub[k]/3"
   ]
  },
  {
   "cell_type": "code",
   "execution_count": 29,
   "metadata": {
    "collapsed": true
   },
   "outputs": [],
   "source": [
    "for k in ['toxic','severe_toxic','obscene','threat','insult','identity_hate']:\n",
    "    sub[k]=(3*blend['1'][k]*blend['2'][k]*blend['3'][k])/(blend['1'][k]+blend['2'][k]+blend['3'][k])\n"
   ]
  },
  {
   "cell_type": "code",
   "execution_count": 30,
   "metadata": {},
   "outputs": [
    {
     "data": {
      "text/html": [
       "<div>\n",
       "<style>\n",
       "    .dataframe thead tr:only-child th {\n",
       "        text-align: right;\n",
       "    }\n",
       "\n",
       "    .dataframe thead th {\n",
       "        text-align: left;\n",
       "    }\n",
       "\n",
       "    .dataframe tbody tr th {\n",
       "        vertical-align: top;\n",
       "    }\n",
       "</style>\n",
       "<table border=\"1\" class=\"dataframe\">\n",
       "  <thead>\n",
       "    <tr style=\"text-align: right;\">\n",
       "      <th></th>\n",
       "      <th>id</th>\n",
       "      <th>toxic</th>\n",
       "      <th>severe_toxic</th>\n",
       "      <th>obscene</th>\n",
       "      <th>threat</th>\n",
       "      <th>insult</th>\n",
       "      <th>identity_hate</th>\n",
       "    </tr>\n",
       "  </thead>\n",
       "  <tbody>\n",
       "    <tr>\n",
       "      <th>0</th>\n",
       "      <td>00001cee341fdb12</td>\n",
       "      <td>0.984634</td>\n",
       "      <td>1.807494e-01</td>\n",
       "      <td>9.572122e-01</td>\n",
       "      <td>2.811747e-03</td>\n",
       "      <td>8.864074e-01</td>\n",
       "      <td>1.027369e-01</td>\n",
       "    </tr>\n",
       "    <tr>\n",
       "      <th>1</th>\n",
       "      <td>0000247867823ef7</td>\n",
       "      <td>0.000004</td>\n",
       "      <td>5.384384e-07</td>\n",
       "      <td>1.106891e-06</td>\n",
       "      <td>4.047541e-09</td>\n",
       "      <td>1.694735e-06</td>\n",
       "      <td>1.793758e-07</td>\n",
       "    </tr>\n",
       "    <tr>\n",
       "      <th>2</th>\n",
       "      <td>00013b17ad220c46</td>\n",
       "      <td>0.000040</td>\n",
       "      <td>9.142834e-07</td>\n",
       "      <td>1.070827e-05</td>\n",
       "      <td>2.335649e-08</td>\n",
       "      <td>4.632983e-06</td>\n",
       "      <td>2.304635e-07</td>\n",
       "    </tr>\n",
       "    <tr>\n",
       "      <th>3</th>\n",
       "      <td>00017563c3f7919a</td>\n",
       "      <td>0.000001</td>\n",
       "      <td>8.618594e-08</td>\n",
       "      <td>4.154072e-07</td>\n",
       "      <td>3.653350e-08</td>\n",
       "      <td>6.670818e-07</td>\n",
       "      <td>1.468335e-08</td>\n",
       "    </tr>\n",
       "    <tr>\n",
       "      <th>4</th>\n",
       "      <td>00017695ad8997eb</td>\n",
       "      <td>0.000065</td>\n",
       "      <td>1.235239e-07</td>\n",
       "      <td>2.096784e-06</td>\n",
       "      <td>2.229504e-08</td>\n",
       "      <td>4.048688e-06</td>\n",
       "      <td>5.399867e-08</td>\n",
       "    </tr>\n",
       "  </tbody>\n",
       "</table>\n",
       "</div>"
      ],
      "text/plain": [
       "                 id     toxic  severe_toxic       obscene        threat  \\\n",
       "0  00001cee341fdb12  0.984634  1.807494e-01  9.572122e-01  2.811747e-03   \n",
       "1  0000247867823ef7  0.000004  5.384384e-07  1.106891e-06  4.047541e-09   \n",
       "2  00013b17ad220c46  0.000040  9.142834e-07  1.070827e-05  2.335649e-08   \n",
       "3  00017563c3f7919a  0.000001  8.618594e-08  4.154072e-07  3.653350e-08   \n",
       "4  00017695ad8997eb  0.000065  1.235239e-07  2.096784e-06  2.229504e-08   \n",
       "\n",
       "         insult  identity_hate  \n",
       "0  8.864074e-01   1.027369e-01  \n",
       "1  1.694735e-06   1.793758e-07  \n",
       "2  4.632983e-06   2.304635e-07  \n",
       "3  6.670818e-07   1.468335e-08  \n",
       "4  4.048688e-06   5.399867e-08  "
      ]
     },
     "execution_count": 30,
     "metadata": {},
     "output_type": "execute_result"
    }
   ],
   "source": [
    "sub.head()"
   ]
  },
  {
   "cell_type": "code",
   "execution_count": 23,
   "metadata": {
    "collapsed": true
   },
   "outputs": [],
   "source": [
    "sub.to_csv('../Submissions/my_blend_new1.csv',index=False)"
   ]
  },
  {
   "cell_type": "code",
   "execution_count": null,
   "metadata": {
    "collapsed": true
   },
   "outputs": [],
   "source": []
  },
  {
   "cell_type": "code",
   "execution_count": null,
   "metadata": {
    "collapsed": true
   },
   "outputs": [],
   "source": []
  },
  {
   "cell_type": "code",
   "execution_count": null,
   "metadata": {
    "collapsed": true
   },
   "outputs": [],
   "source": []
  }
 ],
 "metadata": {
  "kernelspec": {
   "display_name": "Python 3",
   "language": "python",
   "name": "python3"
  },
  "language_info": {
   "codemirror_mode": {
    "name": "ipython",
    "version": 3
   },
   "file_extension": ".py",
   "mimetype": "text/x-python",
   "name": "python",
   "nbconvert_exporter": "python",
   "pygments_lexer": "ipython3",
   "version": "3.6.2"
  }
 },
 "nbformat": 4,
 "nbformat_minor": 2
}
