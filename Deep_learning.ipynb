{
 "cells": [
  {
   "cell_type": "code",
   "execution_count": 30,
   "metadata": {
    "collapsed": true
   },
   "outputs": [],
   "source": [
    "import keras\n",
    "import pandas as pd\n",
    "import numpy as  np\n",
    "from matplotlib import pyplot as plt\n",
    "import seaborn as sns\n",
    "from keras import models\n",
    "from keras import layers\n",
    "from keras.utils import to_categorical\n",
    "from sklearn.feature_extraction.text import TfidfVectorizer\n",
    "from sklearn.ensemble import ExtraTreesClassifier\n",
    "from sklearn.metrics import roc_auc_score"
   ]
  },
  {
   "cell_type": "code",
   "execution_count": 31,
   "metadata": {
    "collapsed": true
   },
   "outputs": [],
   "source": [
    "train=pd.read_csv('../Data/cleaned_train.csv',encoding = \"ISO-8859-1\")\n",
    "test=pd.read_csv('../Data/cleaned_test.csv',encoding = \"ISO-8859-1\")"
   ]
  },
  {
   "cell_type": "code",
   "execution_count": 32,
   "metadata": {
    "collapsed": true
   },
   "outputs": [],
   "source": [
    "def clean_extra_whitespace(x):\n",
    "    for i in range(20):\n",
    "        x=str(x).replace('  ',' ')\n",
    "        x=x.strip()\n",
    "    return x\n",
    "\n",
    "def score(y_tr,y_pre):\n",
    "    return roc_auc_score(y_tr,y_pre)"
   ]
  },
  {
   "cell_type": "code",
   "execution_count": 33,
   "metadata": {
    "collapsed": true
   },
   "outputs": [],
   "source": [
    "train['comment_text']=train['comment_text'].apply(lambda x : clean_extra_whitespace(x))\n",
    "test['comment_text']=test['comment_text'].apply(lambda x : clean_extra_whitespace(x))"
   ]
  },
  {
   "cell_type": "code",
   "execution_count": 51,
   "metadata": {
    "collapsed": true
   },
   "outputs": [],
   "source": [
    "network = models.Sequential()\n",
    "network.add(layers.Dense(512, activation='relu', input_shape=(1000,)))\n",
    "network.add(layers.Dense(6, activation='softmax'))"
   ]
  },
  {
   "cell_type": "code",
   "execution_count": 52,
   "metadata": {
    "collapsed": true
   },
   "outputs": [],
   "source": [
    "network.compile(optimizer='adam',loss='categorical_crossentropy',metrics=['accuracy'])"
   ]
  },
  {
   "cell_type": "code",
   "execution_count": 46,
   "metadata": {
    "collapsed": true
   },
   "outputs": [],
   "source": [
    "tfidf = TfidfVectorizer(stop_words='english', max_features=1000)"
   ]
  },
  {
   "cell_type": "code",
   "execution_count": 47,
   "metadata": {
    "collapsed": true
   },
   "outputs": [],
   "source": [
    "train_data = tfidf.fit_transform(train['comment_text'])"
   ]
  },
  {
   "cell_type": "code",
   "execution_count": 48,
   "metadata": {
    "collapsed": true
   },
   "outputs": [],
   "source": [
    "test_data = tfidf.transform(test['comment_text'])"
   ]
  },
  {
   "cell_type": "code",
   "execution_count": 49,
   "metadata": {},
   "outputs": [
    {
     "data": {
      "text/plain": [
       "((159571, 1000), (153164, 1000))"
      ]
     },
     "execution_count": 49,
     "metadata": {},
     "output_type": "execute_result"
    }
   ],
   "source": [
    "train_data.shape,test_data.shape"
   ]
  },
  {
   "cell_type": "code",
   "execution_count": 40,
   "metadata": {
    "collapsed": true
   },
   "outputs": [],
   "source": [
    "coly = [c for c in train.columns if c not in ['id','comment_text']]\n",
    "y = train[coly]\n",
    "tid = test['id'].values"
   ]
  },
  {
   "cell_type": "code",
   "execution_count": 41,
   "metadata": {
    "collapsed": true
   },
   "outputs": [],
   "source": [
    "train_label=[]\n",
    "for j in range(y.shape[0]):\n",
    "    li=[]\n",
    "    for i in y.columns:\n",
    "        li.append(y[i][j])\n",
    "    train_label.append(li)\n"
   ]
  },
  {
   "cell_type": "code",
   "execution_count": 43,
   "metadata": {
    "collapsed": true
   },
   "outputs": [],
   "source": [
    "train_label=np.array(train_label)"
   ]
  },
  {
   "cell_type": "code",
   "execution_count": null,
   "metadata": {},
   "outputs": [
    {
     "name": "stdout",
     "output_type": "stream",
     "text": [
      "159571/159571 [==============================] - 61s 380us/step - loss: 0.2860 - acc: 0.9786\n",
      "Epoch 2/40\n",
      "159571/159571 [==============================] - 49s 309us/step - loss: 0.2743 - acc: 0.9771\n",
      "Epoch 3/40\n",
      "159571/159571 [==============================] - 45s 284us/step - loss: 0.2675 - acc: 0.97241s - l\n",
      "Epoch 4/40\n",
      "159571/159571 [==============================] - 42s 266us/step - loss: 0.2595 - acc: 0.9593\n",
      "Epoch 5/40\n",
      "159571/159571 [==============================] - 43s 267us/step - loss: 0.2507 - acc: 0.9502\n",
      "Epoch 6/40\n",
      "159571/159571 [==============================] - 44s 276us/step - loss: 0.2425 - acc: 0.9471\n",
      "Epoch 7/40\n",
      "159571/159571 [==============================] - 43s 269us/step - loss: 0.2361 - acc: 0.9441\n",
      "Epoch 8/40\n",
      "159571/159571 [==============================] - 39s 246us/step - loss: 0.2317 - acc: 0.9413\n",
      "Epoch 9/40\n",
      "159571/159571 [==============================] - 39s 246us/step - loss: 0.2289 - acc: 0.9383\n",
      "Epoch 10/40\n",
      "159571/159571 [==============================] - 39s 243us/step - loss: 0.2269 - acc: 0.9348\n",
      "Epoch 11/40\n",
      "159571/159571 [==============================] - 37s 233us/step - loss: 0.2254 - acc: 0.9351\n",
      "Epoch 12/40\n",
      "159571/159571 [==============================] - 38s 241us/step - loss: 0.2244 - acc: 0.9318\n",
      "Epoch 13/40\n",
      "159571/159571 [==============================] - 38s 241us/step - loss: 0.2235 - acc: 0.9330\n",
      "Epoch 14/40\n",
      "159571/159571 [==============================] - 40s 248us/step - loss: 0.2225 - acc: 0.9295\n",
      "Epoch 15/40\n",
      "159571/159571 [==============================] - 38s 237us/step - loss: 0.2221 - acc: 0.9316\n",
      "Epoch 16/40\n",
      "159571/159571 [==============================] - 39s 242us/step - loss: 0.2212 - acc: 0.9275\n",
      "Epoch 17/40\n",
      "159571/159571 [==============================] - 37s 234us/step - loss: 0.2209 - acc: 0.9290\n",
      "Epoch 18/40\n",
      "159571/159571 [==============================] - 38s 237us/step - loss: 0.2205 - acc: 0.9285\n",
      "Epoch 19/40\n",
      "159571/159571 [==============================] - 39s 243us/step - loss: 0.2199 - acc: 0.9283\n",
      "Epoch 20/40\n",
      "159571/159571 [==============================] - 37s 232us/step - loss: 0.2198 - acc: 0.9283\n",
      "Epoch 21/40\n",
      "159571/159571 [==============================] - 37s 230us/step - loss: 0.2195 - acc: 0.9258\n",
      "Epoch 22/40\n",
      "159571/159571 [==============================] - 39s 243us/step - loss: 0.2190 - acc: 0.9260\n",
      "Epoch 23/40\n",
      "159571/159571 [==============================] - 37s 233us/step - loss: 0.2188 - acc: 0.9280\n",
      "Epoch 24/40\n",
      "159571/159571 [==============================] - 36s 227us/step - loss: 0.2186 - acc: 0.9249\n",
      "Epoch 25/40\n",
      "159571/159571 [==============================] - 38s 241us/step - loss: 0.2183 - acc: 0.9284\n",
      "Epoch 26/40\n",
      "159571/159571 [==============================] - 38s 238us/step - loss: 0.2180 - acc: 0.9256\n",
      "Epoch 27/40\n",
      "159571/159571 [==============================] - 36s 228us/step - loss: 0.2179 - acc: 0.9258\n",
      "Epoch 28/40\n",
      "159571/159571 [==============================] - 39s 242us/step - loss: 0.2176 - acc: 0.9253\n",
      "Epoch 29/40\n",
      "159571/159571 [==============================] - 38s 235us/step - loss: 0.2176 - acc: 0.9268\n",
      "Epoch 30/40\n",
      "159571/159571 [==============================] - 37s 232us/step - loss: 0.2172 - acc: 0.9271\n",
      "Epoch 31/40\n",
      "159571/159571 [==============================] - 38s 235us/step - loss: 0.2171 - acc: 0.9276\n",
      "Epoch 32/40\n",
      "159571/159571 [==============================] - 38s 238us/step - loss: 0.2170 - acc: 0.9264\n",
      "Epoch 33/40\n",
      "159571/159571 [==============================] - 38s 237us/step - loss: 0.2167 - acc: 0.9269\n",
      "Epoch 34/40\n",
      "159571/159571 [==============================] - 38s 235us/step - loss: 0.2167 - acc: 0.9265\n",
      "Epoch 35/40\n",
      "159571/159571 [==============================] - 38s 241us/step - loss: 0.2165 - acc: 0.9272\n",
      "Epoch 36/40\n",
      "159571/159571 [==============================] - 37s 233us/step - loss: 0.2162 - acc: 0.9255\n",
      "Epoch 37/40\n",
      "159571/159571 [==============================] - 37s 232us/step - loss: 0.2162 - acc: 0.9263\n",
      "Epoch 38/40\n",
      "159571/159571 [==============================] - 39s 246us/step - loss: 0.2161 - acc: 0.9264\n",
      "Epoch 39/40\n",
      "159571/159571 [==============================] - 37s 232us/step - loss: 0.2160 - acc: 0.9260\n",
      "Epoch 40/40\n",
      "159571/159571 [==============================] - 37s 232us/step - loss: 0.2156 - acc: 0.9256\n"
     ]
    },
    {
     "data": {
      "text/plain": [
       "<keras.callbacks.History at 0x14316cfd2e8>"
      ]
     },
     "execution_count": 53,
     "metadata": {},
     "output_type": "execute_result"
    }
   ],
   "source": [
    "network.fit(train_data.toarray(), train_label, epochs=40, batch_size=120)"
   ]
  },
  {
   "cell_type": "code",
   "execution_count": null,
   "metadata": {
    "collapsed": true
   },
   "outputs": [],
   "source": []
  },
  {
   "cell_type": "code",
   "execution_count": null,
   "metadata": {
    "collapsed": true
   },
   "outputs": [],
   "source": []
  },
  {
   "cell_type": "code",
   "execution_count": null,
   "metadata": {
    "collapsed": true
   },
   "outputs": [],
   "source": []
  }
 ],
 "metadata": {
  "kernelspec": {
   "display_name": "Python 3",
   "language": "python",
   "name": "python3"
  },
  "language_info": {
   "codemirror_mode": {
    "name": "ipython",
    "version": 3
   },
   "file_extension": ".py",
   "mimetype": "text/x-python",
   "name": "python",
   "nbconvert_exporter": "python",
   "pygments_lexer": "ipython3",
   "version": "3.6.2"
  }
 },
 "nbformat": 4,
 "nbformat_minor": 2
}
